{
 "cells": [
  {
   "cell_type": "markdown",
   "metadata": {},
   "source": [
    "# CMSC320 Final Tutorial\n",
    "## By Jacob Linden"
   ]
  },
  {
   "cell_type": "markdown",
   "metadata": {},
   "source": [
    "## Introduction"
   ]
  },
  {
   "cell_type": "markdown",
   "metadata": {},
   "source": [
    "Data science is a cutting edge field in a world that is becoming ever reliant on computers and data. In order to compete in an increasingly competitive, global world, harnessing the power of data can provide many new and amazing uses to the world. \n",
    "\n",
    "Data science is formally defined as the application of computational and statistical techniques to address or gain insight into some prolem in the real world. Data science crosses a wide range of disciplines but generally can be generally divided into a few steps in referred to as the data science pipeline.  \n",
    "\n",
    "Data Science Pipeline:\n",
    "1. Data Collection\n",
    "2. Data Processing\n",
    "3. Exploratory Analysis and Visualization\n",
    "4. Hypothesis Testing and Machine Learning\n",
    "5. Insight and Policy Decision\n"
   ]
  },
  {
   "cell_type": "markdown",
   "metadata": {},
   "source": [
    "## Tutorial Content\n",
    "\n",
    "In this tutorial we will choose a sample data set to run through the entire pipeline and highlight some specific insights we can learn through using data science. There are many great datasets available to choose from. After choosing a dataset we will download and extract the data into a Pandas dataframe and then see what we can learn from the data. We can predict what further we can learn using hypothesis testing and machine learning before we conclude with our overall findings.\n",
    "\n",
    "Tutorial Sections:\n",
    "* [Library Imports](#s0)\n",
    "* [Data Collection](#s1)\n",
    "* [Data Processing](#s2)\n",
    "* [Exploratory Analysis and Visualization](#s3)\n",
    "* [Hypothesis Testing and Machine Learning](#s4)\n",
    "* [Summary](#s5)\n",
    "\n"
   ]
  },
  {
   "cell_type": "markdown",
   "metadata": {},
   "source": [
    "<a id='s0'></a>"
   ]
  },
  {
   "cell_type": "markdown",
   "metadata": {},
   "source": [
    "## Library Imports\n",
    "These libraries will be necessary for this tutorial:\n",
    "1. [Pandas](http://pandas.pydata.org/)\n",
    "2. [Matplotlib](https://matplotlib.org/)\n",
    "3. [Numpy](http://www.numpy.org/)\n",
    "4. [ggplot](http://ggplot.yhathq.com/)\n",
    "5. [sklearn](http://scikit-learn.org/stable/)\n",
    "\n",
    "Other Helpful Libraries:\n",
    "1. [Requests](http://docs.python-requests.org/en/master/)\n",
    "2. [BeautifulSoup](https://www.crummy.com/software/BeautifulSoup/)\n",
    "\n",
    "Below we are the necessary imports, located all together at the beginning."
   ]
  },
  {
   "cell_type": "code",
   "execution_count": 82,
   "metadata": {
    "collapsed": false
   },
   "outputs": [
    {
     "name": "stdout",
     "output_type": "stream",
     "text": [
      "\n"
     ]
    }
   ],
   "source": [
    "import pandas as pd\n",
    "import matplotlib.pyplot as plt\n",
    "import numpy as np\n",
    "from ggplot import *\n",
    "from sklearn import linear_model\n",
    "from sklearn import feature_selection\n",
    "from sklearn.tree import DecisionTreeClassifier\n",
    "from sklearn.neighbors import KNeighborsClassifier\n",
    "from sklearn.model_selection import train_test_split"
   ]
  },
  {
   "cell_type": "code",
   "execution_count": null,
   "metadata": {
    "collapsed": true
   },
   "outputs": [],
   "source": []
  },
  {
   "cell_type": "markdown",
   "metadata": {},
   "source": [
    "<a id='s1'></a>"
   ]
  },
  {
   "cell_type": "markdown",
   "metadata": {},
   "source": [
    "## Data Collection\n",
    "Before we can collect any data we need to choose a dataset to use for this tutorial. After viewing over a list of datasets found at the [Center for Machine Learning and Intelligent Systems](http://archive.ics.uci.edu/ml/datasets.html?area=&att=&format=&numAtt=&numIns=&sort=attup&task=reg&type=&view=table), the dataset I chose was this one on [student performance](http://archive.ics.uci.edu/ml/datasets/Bike+Sharing+Dataset). This dataset was chosen because conceptually the bike sharing data is very approachable which will make analysis a bit more understandable than a very mathmatical or medical dataset.\n",
    "\n",
    "Bike sharing is a growing global business to encourage a healthier and more environmentally friendly travel experience. Bike sharing company data has been provided in day.csv which breaks down the companies ride counts along with the date and weather information. \n",
    "\n",
    "In general there are five ways to download a dataset:\n",
    "1. Direct download from local storage\n",
    "2. Generate locally\n",
    "3. Query from database\n",
    "4. Query from an api\n",
    "5. Scrape data from webpage\n",
    "\n",
    "For our sample dataset we will be downloading and using the data which has already been downloaded locally.\n",
    "\n",
    "This statement below will read the locally stored csv file and load it into a pandas dataframe. The csv is a essentially a list of separate entriers of data which is comma-separated. A pandas dataframe allows easy access and manipulation of the data in order to analyze the information in as straight forward a manor as possible."
   ]
  },
  {
   "cell_type": "code",
   "execution_count": 83,
   "metadata": {
    "collapsed": false
   },
   "outputs": [],
   "source": [
    "data = pd.read_csv(\"day.csv\", sep=',')"
   ]
  },
  {
   "cell_type": "markdown",
   "metadata": {},
   "source": [
    "Here we can take a look at a few sample rows in the dataframe by using the head() function."
   ]
  },
  {
   "cell_type": "code",
   "execution_count": 84,
   "metadata": {
    "collapsed": false
   },
   "outputs": [
    {
     "data": {
      "text/html": [
       "<div>\n",
       "<table border=\"1\" class=\"dataframe\">\n",
       "  <thead>\n",
       "    <tr style=\"text-align: right;\">\n",
       "      <th></th>\n",
       "      <th>instant</th>\n",
       "      <th>dteday</th>\n",
       "      <th>season</th>\n",
       "      <th>yr</th>\n",
       "      <th>mnth</th>\n",
       "      <th>holiday</th>\n",
       "      <th>weekday</th>\n",
       "      <th>workingday</th>\n",
       "      <th>weathersit</th>\n",
       "      <th>temp</th>\n",
       "      <th>atemp</th>\n",
       "      <th>hum</th>\n",
       "      <th>windspeed</th>\n",
       "      <th>casual</th>\n",
       "      <th>registered</th>\n",
       "      <th>cnt</th>\n",
       "    </tr>\n",
       "  </thead>\n",
       "  <tbody>\n",
       "    <tr>\n",
       "      <th>0</th>\n",
       "      <td>1</td>\n",
       "      <td>2011-01-01</td>\n",
       "      <td>1</td>\n",
       "      <td>0</td>\n",
       "      <td>1</td>\n",
       "      <td>0</td>\n",
       "      <td>6</td>\n",
       "      <td>0</td>\n",
       "      <td>2</td>\n",
       "      <td>0.344167</td>\n",
       "      <td>0.363625</td>\n",
       "      <td>0.805833</td>\n",
       "      <td>0.160446</td>\n",
       "      <td>331</td>\n",
       "      <td>654</td>\n",
       "      <td>985</td>\n",
       "    </tr>\n",
       "    <tr>\n",
       "      <th>1</th>\n",
       "      <td>2</td>\n",
       "      <td>2011-01-02</td>\n",
       "      <td>1</td>\n",
       "      <td>0</td>\n",
       "      <td>1</td>\n",
       "      <td>0</td>\n",
       "      <td>0</td>\n",
       "      <td>0</td>\n",
       "      <td>2</td>\n",
       "      <td>0.363478</td>\n",
       "      <td>0.353739</td>\n",
       "      <td>0.696087</td>\n",
       "      <td>0.248539</td>\n",
       "      <td>131</td>\n",
       "      <td>670</td>\n",
       "      <td>801</td>\n",
       "    </tr>\n",
       "    <tr>\n",
       "      <th>2</th>\n",
       "      <td>3</td>\n",
       "      <td>2011-01-03</td>\n",
       "      <td>1</td>\n",
       "      <td>0</td>\n",
       "      <td>1</td>\n",
       "      <td>0</td>\n",
       "      <td>1</td>\n",
       "      <td>1</td>\n",
       "      <td>1</td>\n",
       "      <td>0.196364</td>\n",
       "      <td>0.189405</td>\n",
       "      <td>0.437273</td>\n",
       "      <td>0.248309</td>\n",
       "      <td>120</td>\n",
       "      <td>1229</td>\n",
       "      <td>1349</td>\n",
       "    </tr>\n",
       "    <tr>\n",
       "      <th>3</th>\n",
       "      <td>4</td>\n",
       "      <td>2011-01-04</td>\n",
       "      <td>1</td>\n",
       "      <td>0</td>\n",
       "      <td>1</td>\n",
       "      <td>0</td>\n",
       "      <td>2</td>\n",
       "      <td>1</td>\n",
       "      <td>1</td>\n",
       "      <td>0.200000</td>\n",
       "      <td>0.212122</td>\n",
       "      <td>0.590435</td>\n",
       "      <td>0.160296</td>\n",
       "      <td>108</td>\n",
       "      <td>1454</td>\n",
       "      <td>1562</td>\n",
       "    </tr>\n",
       "    <tr>\n",
       "      <th>4</th>\n",
       "      <td>5</td>\n",
       "      <td>2011-01-05</td>\n",
       "      <td>1</td>\n",
       "      <td>0</td>\n",
       "      <td>1</td>\n",
       "      <td>0</td>\n",
       "      <td>3</td>\n",
       "      <td>1</td>\n",
       "      <td>1</td>\n",
       "      <td>0.226957</td>\n",
       "      <td>0.229270</td>\n",
       "      <td>0.436957</td>\n",
       "      <td>0.186900</td>\n",
       "      <td>82</td>\n",
       "      <td>1518</td>\n",
       "      <td>1600</td>\n",
       "    </tr>\n",
       "  </tbody>\n",
       "</table>\n",
       "</div>"
      ],
      "text/plain": [
       "   instant      dteday  season  yr  mnth  holiday  weekday  workingday  \\\n",
       "0        1  2011-01-01       1   0     1        0        6           0   \n",
       "1        2  2011-01-02       1   0     1        0        0           0   \n",
       "2        3  2011-01-03       1   0     1        0        1           1   \n",
       "3        4  2011-01-04       1   0     1        0        2           1   \n",
       "4        5  2011-01-05       1   0     1        0        3           1   \n",
       "\n",
       "   weathersit      temp     atemp       hum  windspeed  casual  registered  \\\n",
       "0           2  0.344167  0.363625  0.805833   0.160446     331         654   \n",
       "1           2  0.363478  0.353739  0.696087   0.248539     131         670   \n",
       "2           1  0.196364  0.189405  0.437273   0.248309     120        1229   \n",
       "3           1  0.200000  0.212122  0.590435   0.160296     108        1454   \n",
       "4           1  0.226957  0.229270  0.436957   0.186900      82        1518   \n",
       "\n",
       "    cnt  \n",
       "0   985  \n",
       "1   801  \n",
       "2  1349  \n",
       "3  1562  \n",
       "4  1600  "
      ]
     },
     "execution_count": 84,
     "metadata": {},
     "output_type": "execute_result"
    }
   ],
   "source": [
    "data.head()"
   ]
  },
  {
   "cell_type": "markdown",
   "metadata": {},
   "source": [
    "Here we can see that the data looks good and has been read in correctly from the csv file.\n",
    "\n",
    "The data collection stage is finished and now the data-processing stage is next."
   ]
  },
  {
   "cell_type": "markdown",
   "metadata": {},
   "source": [
    "<a id='s2'></a>"
   ]
  },
  {
   "cell_type": "markdown",
   "metadata": {},
   "source": [
    "## Data Processing\n",
    "The data processing stage is the next step of the data science pipeline. The main purpose of this stage is to prepare the data to be analyzed. \n",
    "\n",
    "Things to look for:\n",
    "* Is the data tidy? \n",
    "* Is the data minimal?\n",
    "* Is the data normalized?\n",
    "* Is the data complete?\n",
    "\n",
    "Pandas is the library which we use predominantly to interact with the data as pandas allows easy data alignment in order to structure the data into rows and columns (attributes). "
   ]
  },
  {
   "cell_type": "code",
   "execution_count": 85,
   "metadata": {
    "collapsed": false
   },
   "outputs": [
    {
     "data": {
      "text/html": [
       "<div>\n",
       "<table border=\"1\" class=\"dataframe\">\n",
       "  <thead>\n",
       "    <tr style=\"text-align: right;\">\n",
       "      <th></th>\n",
       "      <th>instant</th>\n",
       "      <th>dteday</th>\n",
       "      <th>season</th>\n",
       "      <th>yr</th>\n",
       "      <th>mnth</th>\n",
       "      <th>holiday</th>\n",
       "      <th>weekday</th>\n",
       "      <th>workingday</th>\n",
       "      <th>weathersit</th>\n",
       "      <th>temp</th>\n",
       "      <th>atemp</th>\n",
       "      <th>hum</th>\n",
       "      <th>windspeed</th>\n",
       "      <th>casual</th>\n",
       "      <th>registered</th>\n",
       "      <th>cnt</th>\n",
       "    </tr>\n",
       "  </thead>\n",
       "  <tbody>\n",
       "    <tr>\n",
       "      <th>0</th>\n",
       "      <td>1</td>\n",
       "      <td>2011-01-01</td>\n",
       "      <td>1</td>\n",
       "      <td>0</td>\n",
       "      <td>1</td>\n",
       "      <td>0</td>\n",
       "      <td>6</td>\n",
       "      <td>0</td>\n",
       "      <td>2</td>\n",
       "      <td>0.344167</td>\n",
       "      <td>0.363625</td>\n",
       "      <td>0.805833</td>\n",
       "      <td>0.160446</td>\n",
       "      <td>331</td>\n",
       "      <td>654</td>\n",
       "      <td>985</td>\n",
       "    </tr>\n",
       "    <tr>\n",
       "      <th>1</th>\n",
       "      <td>2</td>\n",
       "      <td>2011-01-02</td>\n",
       "      <td>1</td>\n",
       "      <td>0</td>\n",
       "      <td>1</td>\n",
       "      <td>0</td>\n",
       "      <td>0</td>\n",
       "      <td>0</td>\n",
       "      <td>2</td>\n",
       "      <td>0.363478</td>\n",
       "      <td>0.353739</td>\n",
       "      <td>0.696087</td>\n",
       "      <td>0.248539</td>\n",
       "      <td>131</td>\n",
       "      <td>670</td>\n",
       "      <td>801</td>\n",
       "    </tr>\n",
       "    <tr>\n",
       "      <th>2</th>\n",
       "      <td>3</td>\n",
       "      <td>2011-01-03</td>\n",
       "      <td>1</td>\n",
       "      <td>0</td>\n",
       "      <td>1</td>\n",
       "      <td>0</td>\n",
       "      <td>1</td>\n",
       "      <td>1</td>\n",
       "      <td>1</td>\n",
       "      <td>0.196364</td>\n",
       "      <td>0.189405</td>\n",
       "      <td>0.437273</td>\n",
       "      <td>0.248309</td>\n",
       "      <td>120</td>\n",
       "      <td>1229</td>\n",
       "      <td>1349</td>\n",
       "    </tr>\n",
       "    <tr>\n",
       "      <th>3</th>\n",
       "      <td>4</td>\n",
       "      <td>2011-01-04</td>\n",
       "      <td>1</td>\n",
       "      <td>0</td>\n",
       "      <td>1</td>\n",
       "      <td>0</td>\n",
       "      <td>2</td>\n",
       "      <td>1</td>\n",
       "      <td>1</td>\n",
       "      <td>0.200000</td>\n",
       "      <td>0.212122</td>\n",
       "      <td>0.590435</td>\n",
       "      <td>0.160296</td>\n",
       "      <td>108</td>\n",
       "      <td>1454</td>\n",
       "      <td>1562</td>\n",
       "    </tr>\n",
       "    <tr>\n",
       "      <th>4</th>\n",
       "      <td>5</td>\n",
       "      <td>2011-01-05</td>\n",
       "      <td>1</td>\n",
       "      <td>0</td>\n",
       "      <td>1</td>\n",
       "      <td>0</td>\n",
       "      <td>3</td>\n",
       "      <td>1</td>\n",
       "      <td>1</td>\n",
       "      <td>0.226957</td>\n",
       "      <td>0.229270</td>\n",
       "      <td>0.436957</td>\n",
       "      <td>0.186900</td>\n",
       "      <td>82</td>\n",
       "      <td>1518</td>\n",
       "      <td>1600</td>\n",
       "    </tr>\n",
       "  </tbody>\n",
       "</table>\n",
       "</div>"
      ],
      "text/plain": [
       "   instant      dteday  season  yr  mnth  holiday  weekday  workingday  \\\n",
       "0        1  2011-01-01       1   0     1        0        6           0   \n",
       "1        2  2011-01-02       1   0     1        0        0           0   \n",
       "2        3  2011-01-03       1   0     1        0        1           1   \n",
       "3        4  2011-01-04       1   0     1        0        2           1   \n",
       "4        5  2011-01-05       1   0     1        0        3           1   \n",
       "\n",
       "   weathersit      temp     atemp       hum  windspeed  casual  registered  \\\n",
       "0           2  0.344167  0.363625  0.805833   0.160446     331         654   \n",
       "1           2  0.363478  0.353739  0.696087   0.248539     131         670   \n",
       "2           1  0.196364  0.189405  0.437273   0.248309     120        1229   \n",
       "3           1  0.200000  0.212122  0.590435   0.160296     108        1454   \n",
       "4           1  0.226957  0.229270  0.436957   0.186900      82        1518   \n",
       "\n",
       "    cnt  \n",
       "0   985  \n",
       "1   801  \n",
       "2  1349  \n",
       "3  1562  \n",
       "4  1600  "
      ]
     },
     "execution_count": 85,
     "metadata": {},
     "output_type": "execute_result"
    }
   ],
   "source": [
    "data.head()"
   ]
  },
  {
   "cell_type": "markdown",
   "metadata": {},
   "source": [
    "As we can see each row corresponds with a specific example and each column a specific attribute. This is generally a tidy dataset which is a desireable trait as every attribute except the date is the same data type which is good practice.  Additionally all of the columns in this dataset are related to a similar topic.\n",
    "\n",
    "Here is a description of each of the attributes:\n",
    "\n",
    "* instant : record index\n",
    "* dteday : date\n",
    "* season : season (1:springer, 2:summer, 3:fall, 4:winter)\n",
    "* yr : year (0: 2011, 1:2012)\n",
    "* mnth : month ( 1 to 12)\n",
    "* hr : hour (0 to 23)\n",
    "* holiday : weather day is holiday or not (0:not holiday, 1:holiday)\n",
    "* weekday : day of the week\n",
    "* workingday : if day is neither weekend nor holiday is 1, otherwise is 0.\n",
    "* weathersit :\n",
    "    * 1: Clear, Few clouds, Partly cloudy, Partly cloudy\n",
    "    * 2: Mist + Cloudy, Mist + Broken clouds, Mist + Few clouds, Mist\n",
    "    * 3: Light Snow, Light Rain + Thunderstorm + Scattered clouds, Light Rain + Scattered clouds\n",
    "    * 4: Heavy Rain + Ice Pallets + Thunderstorm + Mist, Snow + Fog\n",
    "* temp : Normalized temperature in Celsius. \n",
    "* atemp: Normalized feeling temperature in Celsius. \n",
    "* hum: Normalized humidity. The values are divided to 100 (max)\n",
    "* windspeed: Normalized wind speed. The values are divided to 67 (max)\n",
    "* casual: count of casual users\n",
    "* registered: count of registered users\n",
    "* cnt: count of total rental bikes including both casual and registered\n",
    "\n",
    "Conveniently this dataset already has had a few of the values normalized. To normalize data is to set all of the values of an attribute to a range between zero and one. This is done by dividing all of the values by the mean value for that category. This allows the smaller number to show in a simple manor how the data compares to the average. \n",
    "\n",
    "Here the weather-related terms have alreayd been normalized for us.\n",
    "\n",
    "One aspect where this dataset could improve is that there are alot of attributes and some of them are similar with redundant or irrelevant information. We want to minimize the data we are working with so below I will remove a few of the extraneous attributes."
   ]
  },
  {
   "cell_type": "code",
   "execution_count": 86,
   "metadata": {
    "collapsed": false
   },
   "outputs": [
    {
     "data": {
      "text/html": [
       "<div>\n",
       "<table border=\"1\" class=\"dataframe\">\n",
       "  <thead>\n",
       "    <tr style=\"text-align: right;\">\n",
       "      <th></th>\n",
       "      <th>dteday</th>\n",
       "      <th>season</th>\n",
       "      <th>yr</th>\n",
       "      <th>mnth</th>\n",
       "      <th>holiday</th>\n",
       "      <th>weekday</th>\n",
       "      <th>workingday</th>\n",
       "      <th>weathersit</th>\n",
       "      <th>temp</th>\n",
       "      <th>hum</th>\n",
       "      <th>cnt</th>\n",
       "    </tr>\n",
       "  </thead>\n",
       "  <tbody>\n",
       "    <tr>\n",
       "      <th>0</th>\n",
       "      <td>2011-01-01</td>\n",
       "      <td>1</td>\n",
       "      <td>0</td>\n",
       "      <td>1</td>\n",
       "      <td>0</td>\n",
       "      <td>6</td>\n",
       "      <td>0</td>\n",
       "      <td>2</td>\n",
       "      <td>0.344167</td>\n",
       "      <td>0.805833</td>\n",
       "      <td>985</td>\n",
       "    </tr>\n",
       "    <tr>\n",
       "      <th>1</th>\n",
       "      <td>2011-01-02</td>\n",
       "      <td>1</td>\n",
       "      <td>0</td>\n",
       "      <td>1</td>\n",
       "      <td>0</td>\n",
       "      <td>0</td>\n",
       "      <td>0</td>\n",
       "      <td>2</td>\n",
       "      <td>0.363478</td>\n",
       "      <td>0.696087</td>\n",
       "      <td>801</td>\n",
       "    </tr>\n",
       "    <tr>\n",
       "      <th>2</th>\n",
       "      <td>2011-01-03</td>\n",
       "      <td>1</td>\n",
       "      <td>0</td>\n",
       "      <td>1</td>\n",
       "      <td>0</td>\n",
       "      <td>1</td>\n",
       "      <td>1</td>\n",
       "      <td>1</td>\n",
       "      <td>0.196364</td>\n",
       "      <td>0.437273</td>\n",
       "      <td>1349</td>\n",
       "    </tr>\n",
       "    <tr>\n",
       "      <th>3</th>\n",
       "      <td>2011-01-04</td>\n",
       "      <td>1</td>\n",
       "      <td>0</td>\n",
       "      <td>1</td>\n",
       "      <td>0</td>\n",
       "      <td>2</td>\n",
       "      <td>1</td>\n",
       "      <td>1</td>\n",
       "      <td>0.200000</td>\n",
       "      <td>0.590435</td>\n",
       "      <td>1562</td>\n",
       "    </tr>\n",
       "    <tr>\n",
       "      <th>4</th>\n",
       "      <td>2011-01-05</td>\n",
       "      <td>1</td>\n",
       "      <td>0</td>\n",
       "      <td>1</td>\n",
       "      <td>0</td>\n",
       "      <td>3</td>\n",
       "      <td>1</td>\n",
       "      <td>1</td>\n",
       "      <td>0.226957</td>\n",
       "      <td>0.436957</td>\n",
       "      <td>1600</td>\n",
       "    </tr>\n",
       "  </tbody>\n",
       "</table>\n",
       "</div>"
      ],
      "text/plain": [
       "       dteday  season  yr  mnth  holiday  weekday  workingday  weathersit  \\\n",
       "0  2011-01-01       1   0     1        0        6           0           2   \n",
       "1  2011-01-02       1   0     1        0        0           0           2   \n",
       "2  2011-01-03       1   0     1        0        1           1           1   \n",
       "3  2011-01-04       1   0     1        0        2           1           1   \n",
       "4  2011-01-05       1   0     1        0        3           1           1   \n",
       "\n",
       "       temp       hum   cnt  \n",
       "0  0.344167  0.805833   985  \n",
       "1  0.363478  0.696087   801  \n",
       "2  0.196364  0.437273  1349  \n",
       "3  0.200000  0.590435  1562  \n",
       "4  0.226957  0.436957  1600  "
      ]
     },
     "execution_count": 86,
     "metadata": {},
     "output_type": "execute_result"
    }
   ],
   "source": [
    "data = data.drop('instant', 1)\n",
    "data = data.drop('windspeed', 1)\n",
    "data = data.drop('atemp', 1)\n",
    "data = data.drop('casual', 1)\n",
    "data = data.drop('registered', 1)\n",
    "\n",
    "data.head()"
   ]
  },
  {
   "cell_type": "markdown",
   "metadata": {},
   "source": [
    "Here is our reduced, cleaner dataset.\n",
    "\n",
    "The final step to processing the data is to check if there is any missing data in the table and if so try to impute data and complete the dataset. \n",
    "\n",
    "Data can be misisng from a dataset for a variety of reasons which are difficult to know. Depending on the data, a possible solution is to remove all rows with null values or setting all null values to zero. This dataset of bike sharing data is not missing any data."
   ]
  },
  {
   "cell_type": "code",
   "execution_count": 87,
   "metadata": {
    "collapsed": false
   },
   "outputs": [
    {
     "name": "stdout",
     "output_type": "stream",
     "text": [
      "dteday        0\n",
      "season        0\n",
      "yr            0\n",
      "mnth          0\n",
      "holiday       0\n",
      "weekday       0\n",
      "workingday    0\n",
      "weathersit    0\n",
      "temp          0\n",
      "hum           0\n",
      "cnt           0\n",
      "dtype: int64\n"
     ]
    }
   ],
   "source": [
    "total_rows = data.count()\n",
    "data = data.dropna()\n",
    "adjusted_rows = data.count()\n",
    "\n",
    "diff = total_rows - adjusted_rows\n",
    "print diff"
   ]
  },
  {
   "cell_type": "markdown",
   "metadata": {},
   "source": [
    "The above statement shows that the dataset did not have any nan values in the table as zero rows were removed from running the dropna() method. This method removes all of the rows where data is missing. This approach works well when missing data is infrequenty but is most of the rows are missing data, you do not want to remove all of them but rather find a way to estimate the data.\n",
    "\n",
    "This sample bike sharing data is all finished being processed and is ready to be analyzed."
   ]
  },
  {
   "cell_type": "markdown",
   "metadata": {},
   "source": [
    "<a id='s3'></a>"
   ]
  },
  {
   "cell_type": "markdown",
   "metadata": {},
   "source": [
    "## Exploratory Analysis and Visualization\n",
    "\n",
    "The following stage of the data science pipeline is the first where you get to delve deep into the data, searching for interesting artifacts or relationships in the data.\n",
    "\n",
    "An easy first step for the analysis of the dataset would be do do a basic statistical analysis, calculating the mean, median, and stand deviation for relevant attributes. Pandas provides a few built in functions which are incredibly useful in this regard."
   ]
  },
  {
   "cell_type": "code",
   "execution_count": 88,
   "metadata": {
    "collapsed": false
   },
   "outputs": [
    {
     "data": {
      "text/plain": [
       "season           2.496580\n",
       "yr               0.500684\n",
       "mnth             6.519836\n",
       "holiday          0.028728\n",
       "weekday          2.997264\n",
       "workingday       0.683995\n",
       "weathersit       1.395349\n",
       "temp             0.495385\n",
       "hum              0.627894\n",
       "cnt           4504.348837\n",
       "dtype: float64"
      ]
     },
     "execution_count": 88,
     "metadata": {},
     "output_type": "execute_result"
    }
   ],
   "source": [
    "data.mean()"
   ]
  },
  {
   "cell_type": "code",
   "execution_count": 89,
   "metadata": {
    "collapsed": false
   },
   "outputs": [
    {
     "data": {
      "text/plain": [
       "season           3.000000\n",
       "yr               1.000000\n",
       "mnth             7.000000\n",
       "holiday          0.000000\n",
       "weekday          3.000000\n",
       "workingday       1.000000\n",
       "weathersit       1.000000\n",
       "temp             0.498333\n",
       "hum              0.626667\n",
       "cnt           4548.000000\n",
       "dtype: float64"
      ]
     },
     "execution_count": 89,
     "metadata": {},
     "output_type": "execute_result"
    }
   ],
   "source": [
    "data.median()"
   ]
  },
  {
   "cell_type": "markdown",
   "metadata": {},
   "source": [
    "The median and mean data is unsupririsingly very similar which makes sense for such a large dataset."
   ]
  },
  {
   "cell_type": "code",
   "execution_count": 90,
   "metadata": {
    "collapsed": false
   },
   "outputs": [
    {
     "data": {
      "text/plain": [
       "season           1.110807\n",
       "yr               0.500342\n",
       "mnth             3.451913\n",
       "holiday          0.167155\n",
       "weekday          2.004787\n",
       "workingday       0.465233\n",
       "weathersit       0.544894\n",
       "temp             0.183051\n",
       "hum              0.142429\n",
       "cnt           1937.211452\n",
       "dtype: float64"
      ]
     },
     "execution_count": 90,
     "metadata": {},
     "output_type": "execute_result"
    }
   ],
   "source": [
    "data.std()"
   ]
  },
  {
   "cell_type": "markdown",
   "metadata": {},
   "source": [
    "Stand deviation gives a little more information as a small standard deviation shows that a attribute tends to result in similar values and a larger one means the values tend to be more varied. The standard deviation shows have far the average attribute was from the mean value. Most of the above values are very small except the standard deviation for the daily rider count which largely varies with a standard deviation of nearly 2000."
   ]
  },
  {
   "cell_type": "code",
   "execution_count": 91,
   "metadata": {
    "collapsed": false
   },
   "outputs": [
    {
     "data": {
      "text/plain": [
       "season       -0.000384\n",
       "yr           -0.002742\n",
       "mnth         -0.008149\n",
       "holiday       5.654224\n",
       "weekday       0.002742\n",
       "workingday   -0.793147\n",
       "weathersit    0.957385\n",
       "temp         -0.054521\n",
       "hum          -0.069783\n",
       "cnt          -0.047353\n",
       "dtype: float64"
      ]
     },
     "execution_count": 91,
     "metadata": {},
     "output_type": "execute_result"
    }
   ],
   "source": [
    "data.skew()"
   ]
  },
  {
   "cell_type": "markdown",
   "metadata": {},
   "source": [
    "The skew function shows that most of the data has no strong skew except the holiday attribute and the weatherit attribute. \n",
    "\n",
    "Now that we have done a basic statistical analysis of this data it is possible that we can learn a little more from the data by using some visualiizations."
   ]
  },
  {
   "cell_type": "code",
   "execution_count": 92,
   "metadata": {
    "collapsed": false
   },
   "outputs": [
    {
     "data": {
      "image/png": "[encoded data removed]",
      "text/plain": [
       "<matplotlib.figure.Figure at 0x7fe698a0b690>"
      ]
     },
     "metadata": {},
     "output_type": "display_data"
    }
   ],
   "source": [
    "data.plot(kind='scatter', y='cnt', x='mnth')\n",
    "plt.show()"
   ]
  },
  {
   "cell_type": "markdown",
   "metadata": {},
   "source": [
    "The above plot is a scatter plot of rider count by month. Months 1-12 correlate with January-December. The major information that I can get from this plot is that ridership seems decreased in the colder winter months. This scatter plot loses some detail but there is a similar and improved version which shows more information called a violin plot."
   ]
  },
  {
   "cell_type": "code",
   "execution_count": 93,
   "metadata": {
    "collapsed": false
   },
   "outputs": [
    {
     "data": {
      "image/png": "[encoded data removed]",
      "text/plain": [
       "<matplotlib.figure.Figure at 0x7fe69ad0fc10>"
      ]
     },
     "metadata": {},
     "output_type": "display_data"
    },
    {
     "data": {
      "text/plain": [
       "<ggplot: (8789273916453)>"
      ]
     },
     "execution_count": 93,
     "metadata": {},
     "output_type": "execute_result"
    }
   ],
   "source": [
    "ggplot(aes(x='mnth', y='cnt'), data=data) +\\\n",
    "    geom_violin() +\\\n",
    "    labs(title=\"Life expectancy over time\",\n",
    "         x = \"Month\",\n",
    "         y = \"Number of Riders\")"
   ]
  },
  {
   "cell_type": "markdown",
   "metadata": {},
   "source": [
    "This second plot shows a more detailed representation of the ridership as the shape of these violin plots allows an easy visual represntation of the frequency of each of the ridership totals by month.\n"
   ]
  },
  {
   "cell_type": "code",
   "execution_count": 94,
   "metadata": {
    "collapsed": false
   },
   "outputs": [
    {
     "name": "stdout",
     "output_type": "stream",
     "text": [
      "[ 157.12299279]\n"
     ]
    }
   ],
   "source": [
    "lmodel = linear_model.LinearRegression()\n",
    "xList = data['mnth']\n",
    "yList = data['cnt'].tolist()\n",
    "lmodel.fit(xList.values.reshape(len(xList), 1), yList)\n",
    "model1 = lmodel\n",
    "print lmodel.coef_"
   ]
  },
  {
   "cell_type": "markdown",
   "metadata": {},
   "source": [
    "The above value is the slope of the linear regression line which shows that as the year progresses the ridership increases on average.\n",
    "\n",
    "Another interesting look we can take into the data is seeing the impact which holidays impact ridership versus non-holiays and also workdays versus weekends."
   ]
  },
  {
   "cell_type": "code",
   "execution_count": 95,
   "metadata": {
    "collapsed": false
   },
   "outputs": [
    {
     "data": {
      "text/plain": [
       "season           2.428571\n",
       "yr               0.523810\n",
       "mnth             6.904762\n",
       "holiday          1.000000\n",
       "weekday          1.809524\n",
       "workingday       0.000000\n",
       "weathersit       1.285714\n",
       "temp             0.465012\n",
       "hum              0.614704\n",
       "cnt           3735.000000\n",
       "dtype: float64"
      ]
     },
     "execution_count": 95,
     "metadata": {},
     "output_type": "execute_result"
    }
   ],
   "source": [
    "holiday_data = data.loc[data['holiday'] == 1]\n",
    "no_holiday_data = data.loc[data['holiday'] == 0]\n",
    "workday_data = data.loc[data['workingday'] == 0]\n",
    "non_workday_data = data.loc[data['workingday'] == 1]\n",
    "\n",
    "holiday_data.mean()"
   ]
  },
  {
   "cell_type": "code",
   "execution_count": 96,
   "metadata": {
    "collapsed": false
   },
   "outputs": [
    {
     "data": {
      "text/plain": [
       "season           2.498592\n",
       "yr               0.500000\n",
       "mnth             6.508451\n",
       "holiday          0.000000\n",
       "weekday          3.032394\n",
       "workingday       0.704225\n",
       "weathersit       1.398592\n",
       "temp             0.496283\n",
       "hum              0.628284\n",
       "cnt           4527.104225\n",
       "dtype: float64"
      ]
     },
     "execution_count": 96,
     "metadata": {},
     "output_type": "execute_result"
    }
   ],
   "source": [
    "no_holiday_data.mean()"
   ]
  },
  {
   "cell_type": "markdown",
   "metadata": {},
   "source": [
    "<a id='s4'></a>"
   ]
  },
  {
   "cell_type": "markdown",
   "metadata": {},
   "source": [
    "Based on a comparison of the mean values, overall holidays have lower ridrship by a small amount than non-holidays. This is overall a little surprising because my assumtption was that there are more riders on days with no work. Let's compare weekend versus workdays."
   ]
  },
  {
   "cell_type": "code",
   "execution_count": 97,
   "metadata": {
    "collapsed": false
   },
   "outputs": [
    {
     "data": {
      "text/plain": [
       "season           2.476190\n",
       "yr               0.502165\n",
       "mnth             6.549784\n",
       "holiday          0.090909\n",
       "weekday          2.891775\n",
       "workingday       0.000000\n",
       "weathersit       1.346320\n",
       "temp             0.481213\n",
       "hum              0.622800\n",
       "cnt           4330.168831\n",
       "dtype: float64"
      ]
     },
     "execution_count": 97,
     "metadata": {},
     "output_type": "execute_result"
    }
   ],
   "source": [
    "workday_data.mean()"
   ]
  },
  {
   "cell_type": "code",
   "execution_count": 98,
   "metadata": {
    "collapsed": false
   },
   "outputs": [
    {
     "data": {
      "text/plain": [
       "4584.8199999999997"
      ]
     },
     "execution_count": 98,
     "metadata": {},
     "output_type": "execute_result"
    }
   ],
   "source": [
    "non_workday_data.mean()['cnt']"
   ]
  },
  {
   "cell_type": "markdown",
   "metadata": {},
   "source": [
    "Overall the workday versus non-workday count difference appears much smaller which suggests that there is not a very large difference between ridership on weekends versus weekdays comapred to holidays versus non-holidays. Lastly lets plot these average counts together to get the full picture."
   ]
  },
  {
   "cell_type": "code",
   "execution_count": 99,
   "metadata": {
    "collapsed": false
   },
   "outputs": [
    {
     "data": {
      "image/png": "[encoded data removed]",
      "text/plain": [
       "<matplotlib.figure.Figure at 0x7fe698c6f4d0>"
      ]
     },
     "metadata": {},
     "output_type": "display_data"
    }
   ],
   "source": [
    "means = []\n",
    "means.append(non_workday_data.mean()['cnt'])\n",
    "means.append(workday_data.mean()['cnt'])\n",
    "means.append(no_holiday_data.mean()['cnt'])\n",
    "means.append(holiday_data.mean()['cnt'])\n",
    "labels = ['non_workday', 'workday', 'non_holiday', 'holiday']\n",
    "plt.bar(range(len(means)),means, align='center')\n",
    "plt.xticks(range(len(means)), labels)\n",
    "plt.ylabel('rider count')\n",
    "plt.xlabel('day type')\n",
    "plt.ylim(3000,5000)\n",
    "plt.show()"
   ]
  },
  {
   "cell_type": "markdown",
   "metadata": {},
   "source": [
    "Overall our previous findings seem to be coroborated by these bar charts which show that holidays have significantly less riders than other days, which seem to have similar ridership."
   ]
  },
  {
   "cell_type": "markdown",
   "metadata": {},
   "source": [
    "## Hypothesis Testing and Machine Learning"
   ]
  },
  {
   "cell_type": "markdown",
   "metadata": {},
   "source": [
    "The next step of the data science pipeline is the hypothesis testing and machine learning section. Generally speaking machine learning allows for the classification or prediction of data based on the other data available. For example a machine learning algorithm may be able to gain insight into a question like, \"based on the temperature and the month predict the number of riders that day\" or \"based on the number of riders and the temperature predict if the day is a workday or not\". \n",
    "\n",
    "More generally speaking Machine Learning allows us to create a linear model to classify input data by creating a model based on the data. There are various mechanisms to do this and this tutorial will go through a few of those mechanisms.\n",
    "\n",
    "A machine learning problem can be broken up into three primary parts:\n",
    "1. What is the hypothesis function?\n",
    "2. What is the loss function?\n",
    "3. How do we solve the optimization function?\n",
    "\n",
    "A hypothesis function is a basic premise which is being challenged or tested by the output of the machine learning algorithm execution. The sample dataset will use a hypothesis function that the combination of ridership and temperature has no impact on if the day is a workday or not.\n",
    "\n",
    "A loss function is a function which can be used to calculate the distance of the machine learning predictions from the actual result. There are multiple versions of loss functions each with their own pro's and con's, but the main few are squared loss, 0-1 loss, hinge loss and exponential loss.\n",
    "\n",
    "There are multiple approaches the solving these sort of machine learning problems but I will choose two separate ML algorithms and try both."
   ]
  },
  {
   "cell_type": "code",
   "execution_count": 100,
   "metadata": {
    "collapsed": true
   },
   "outputs": [],
   "source": [
    "def decisionTreeBestDepth(X, Y):\n",
    "    maxDepth = 10\n",
    "    trees = []\n",
    "    scores = []\n",
    "    for i in range(maxDepth):\n",
    "        tree = DecisionTreeClassifier(max_depth=i+1)\n",
    "        tree.fit(X, Y)\n",
    "        trees.append(tree)\n",
    "        scores.append(tree.score(X, Y))\n",
    "    bestIndex = np.argmax(scores) \n",
    "    bestTree = trees[bestIndex]\n",
    "    return (bestIndex+1, bestTree) # Returns tuple (depth, TreeClassifier)"
   ]
  },
  {
   "cell_type": "markdown",
   "metadata": {},
   "source": [
    "A decision tree is a machine learning algorithm where a series of questions is posed to the data which ideally each split the data in half until you reach a prediction/classification end node. This sort of algorithm depends heavily on the maxDepth value equals how many questions a single running of the algorithm can ask of the dataset.\n",
    "\n",
    "The above implementation of decision tree tries a few difference depth choices and chooses the one with the best score."
   ]
  },
  {
   "cell_type": "code",
   "execution_count": 101,
   "metadata": {
    "collapsed": true
   },
   "outputs": [],
   "source": [
    "def kNNBestK(X, Y):\n",
    "    maxK = 100\n",
    "    classifiers = []\n",
    "    scores = []\n",
    "    for i in range(maxK):\n",
    "        neighbor = KNeighborsClassifier(n_neighbors=i+2) # start at 2\n",
    "        neighbor.fit(X, Y)\n",
    "        classifiers.append(neighbor)\n",
    "        scores.append(neighbor.score(X, Y))\n",
    "    bestIndex = np.argmax(scores) \n",
    "    bestKNN = classifiers[bestIndex]\n",
    "    return (bestIndex+2, bestKNN)"
   ]
  },
  {
   "cell_type": "markdown",
   "metadata": {},
   "source": [
    "KNN or K-nearest neighbors approach is a different style of algorithm where the algorithm predicts the value of a datapoint by using the average classification of the K-nearest datapoints. This is good for geometrically separated data that may not be linearlly separable."
   ]
  },
  {
   "cell_type": "code",
   "execution_count": 107,
   "metadata": {
    "collapsed": false
   },
   "outputs": [
    {
     "name": "stdout",
     "output_type": "stream",
     "text": [
      "Tree Score 0.654081632653\n",
      "KNN Score 0.589795918367\n"
     ]
    }
   ],
   "source": [
    "scores_knn =  []\n",
    "scores_tree = []\n",
    "\n",
    "for i in range(20):\n",
    "    train, test = train_test_split(data, test_size = 0.2)\n",
    "\n",
    "    x_test = test[['temp', 'cnt']]\n",
    "    y_test = test['workingday']\n",
    "\n",
    "    x_train = train[['temp', 'cnt']]\n",
    "    y_train = train['workingday']\n",
    "\n",
    "    bestDepth, tree = decisionTreeBestDepth(x_train, y_train)\n",
    "    bestK, knn = kNNBestK(x_train, y_train)\n",
    "    scores_tree.append(tree.score(x_test, y_test))\n",
    "    scores_knn.append(knn.score(x_test, y_test))\n",
    "\n",
    "print 'Tree Score', np.mean(scores_tree)\n",
    "print 'KNN Score', np.mean(scores_knn)"
   ]
  },
  {
   "cell_type": "markdown",
   "metadata": {},
   "source": [
    "So overall both of these classifiers work very weakly, meaning that they provided consistent greater than 50% predictions, but they are not much better. There are two possible reasons for this. The first is that there is not a strong correlation between the chosen variables and the predicted workingday value. The second is that the classifiers chosen were not ideal for the dataset.\n",
    "\n",
    "On average the decision tree performed better than the KNN on the data which to mean suggests that the data was mixed together and KNN was not able to use the spatial data to provide a good prediction of the value. \n",
    "\n",
    "Overall it seems to me that while there is only a week correlation between temperature, ridership and working days, because these two ML algorithms are able to find a greater than 50% solution, the hypothesis above holds."
   ]
  },
  {
   "cell_type": "markdown",
   "metadata": {},
   "source": [
    "<a id='s5'></a>"
   ]
  },
  {
   "cell_type": "markdown",
   "metadata": {},
   "source": [
    "## Summary"
   ]
  },
  {
   "cell_type": "markdown",
   "metadata": {},
   "source": [
    "In essence the beauty of what machine learning offers us is insight and information about data which is not otherwise available at face value. Sometimes there is hidden information in the data which takes a mathematical analysis to find out. Just like the bike ridership company which relies on user data in order to provide a better service, the use of data in all aspects of the world, from medicine to business, can allow better to service to consumers and better profits for the company.\n",
    "\n",
    "While human beings are good at gaining intution about smaller datasets, when it comes to large data with thousands or more datapoints humans are not so good and computers are more powerful.\n",
    "\n",
    "In the modern world of information and computers data is extremely powerful. The data science pipeline allows the average person, business or university the power to draw impactful conclusions from their data."
   ]
  }
 ],
 "metadata": {
  "kernelspec": {
   "display_name": "Python 2",
   "language": "python",
   "name": "python2"
  }
 },
 "nbformat": 4,
 "nbformat_minor": 2
}
